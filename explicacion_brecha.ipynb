{
 "cells": [
  {
   "cell_type": "markdown",
   "id": "712a68ff",
   "metadata": {},
   "source": [
    "# 📘 Brecha Digital Educativa – Proyecto 06"
   ]
  },
  {
   "cell_type": "markdown",
   "id": "08c8315a",
   "metadata": {},
   "source": [
    "Este notebook explica el proceso de análisis de desigualdades tecnológicas por zona y nivel económico."
   ]
  },
  {
   "cell_type": "markdown",
   "id": "ff6a892e",
   "metadata": {},
   "source": [
    "## Variables Analizadas\n",
    "- Acceso a Internet\n",
    "- Dispositivos por alumno\n",
    "- Frecuencia de conexión\n",
    "- Zona geográfica\n",
    "- Nivel educativo y económico"
   ]
  },
  {
   "cell_type": "markdown",
   "id": "1d992b6a",
   "metadata": {},
   "source": [
    "## Visualización\n",
    "Gráfico comparativo de acceso promedio por zona y nivel económico."
   ]
  },
  {
   "cell_type": "markdown",
   "id": "3389f6f3",
   "metadata": {},
   "source": [
    "## Conclusión\n",
    "La brecha digital se refleja en los datos y puede ser abordada desde la evidencia analítica."
   ]
  }
 ],
 "metadata": {
  "kernelspec": {
   "display_name": "Python 3",
   "language": "python",
   "name": "python3"
  },
  "language_info": {
   "name": "python",
   "version": "3.9"
  }
 },
 "nbformat": 4,
 "nbformat_minor": 5
}
